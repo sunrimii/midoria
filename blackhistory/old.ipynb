{
 "cells": [
  {
   "cell_type": "markdown",
   "metadata": {},
   "source": [
    "訓練網路"
   ]
  },
  {
   "cell_type": "code",
   "execution_count": 7,
   "metadata": {},
   "outputs": [
    {
     "name": "stdout",
     "output_type": "stream",
     "text": [
      "accuracy: 92.5%\n",
      "accuracy: 83.0%\n"
     ]
    }
   ],
   "source": [
    "import numpy as np\n",
    "import matplotlib.pyplot as plt\n",
    "\n",
    "\n",
    "def load_image(path):\n",
    "    with open(path, 'rb') as file:\n",
    "        file.read(16)\n",
    "        return np.fromfile(file, dtype=np.uint8).reshape(-1, 784) / 255\n",
    "        \n",
    "def load_label(path):\n",
    "    with open(path, 'rb') as file:\n",
    "        file.read(8)\n",
    "        return np.fromfile(file, dtype=np.uint8)\n",
    "\n",
    "\n",
    "training_images = load_image('train-images.idx3-ubyte')\n",
    "training_labels = load_label('train-labels.idx1-ubyte')\n",
    "testing_images = load_image('t10k-images.idx3-ubyte')\n",
    "testing_labels = load_label('t10k-labels.idx1-ubyte')\n",
    "\n",
    "class NeuralNetworks:\n",
    "    def __init__(self):\n",
    "        self.dim = [784] + [6]*2 + [10]\n",
    "        \n",
    "        # 初始化參數\n",
    "        self.w = []\n",
    "        self.b = []\n",
    "        for i in range(len(self.dim)-1):\n",
    "            self.w.append((2 * np.random.rand(self.dim[i+1], self.dim[i]) - 1))\n",
    "            self.b.append(np.zeros((self.dim[i+1], 1)))\n",
    "        \n",
    "\n",
    "        self.batch_size = 10\n",
    "        \n",
    "        self.learning_rate = 0.1\n",
    "        \n",
    "        self.identity = np.identity(10)\n",
    "        \n",
    "        self.batch_dCdw = [0 for _ in range(len(self.dim) - 1)]\n",
    "        self.batch_dCdb = [0 for _ in range(len(self.dim) - 1)]\n",
    "    \n",
    "    def sigmoid(self, z):\n",
    "        return 1 / (1 + np.exp(-z))\n",
    "    \n",
    "    def sigmoid_prime(self, z):\n",
    "        return np.exp(-z) / ((1 + np.exp(-z)) ** 2)\n",
    "    \n",
    "    def ReLU(self, z):\n",
    "        return np.maximum(z, 0)\n",
    "    \n",
    "    def ReLU_prime(self, z):\n",
    "        return np.where(z > np.zeros_like(z), 1, 0)\n",
    "    \n",
    "    def forward_propagation(self, image):\n",
    "        self.x = [image.reshape(-1, 1)]\n",
    "        self.z = []\n",
    "        \n",
    "        for i in range(len(self.dim) - 1):\n",
    "            self.z.append(np.dot(self.w[i], self.x[i]) + self.b[i])\n",
    "            self.x.append(self.sigmoid(self.z[i]))\n",
    "\n",
    "        return self.x[-1]\n",
    "    \n",
    "    def backward_propagation(self, label):\n",
    "        yhat = self.identity[label].reshape(10, 1)\n",
    "\n",
    "        dCdb = [(self.x[-1] - yhat) * self.sigmoid_prime(self.z[-1])]\n",
    "        dCdw = [np.dot(dCdb[0], self.x[-2].T)]\n",
    "        \n",
    "        for i in range(len(self.dim)-2, 0, -1):\n",
    "            dCdb.insert(0, np.dot(self.w[i].T, dCdb[0]) * self.sigmoid_prime(self.z[i-1]))\n",
    "            dCdw.insert(0, np.dot(dCdb[0], self.x[i-1].T))\n",
    "    \n",
    "        for i in range(len(self.dim) - 1):\n",
    "            self.batch_dCdw[i] += dCdw[i]\n",
    "            self.batch_dCdb[i] += dCdb[i]\n",
    "    \n",
    "    def train(self):\n",
    "        order = np.arange(6000)\n",
    "        np.random.shuffle(order)\n",
    "        \n",
    "        batch_cnt = 0\n",
    "        \n",
    "        for i in order:\n",
    "            image = training_images[i]\n",
    "            label = training_labels[i]\n",
    "\n",
    "            self.forward_propagation(image)\n",
    "            self.backward_propagation(label)\n",
    "            \n",
    "            batch_cnt += 1\n",
    "            \n",
    "            if batch_cnt == self.batch_size:\n",
    "                for dim in range(len(self.dim)-1):\n",
    "                    self.w[dim] -= self.learning_rate * self.batch_dCdw[dim] / self.batch_size\n",
    "                    self.b[dim] -= self.learning_rate * self.batch_dCdb[dim] / self.batch_size\n",
    "\n",
    "                self.batch_dCdw = [0 for i in range(len(self.dim) - 1)]\n",
    "                self.batch_dCdb = [0 for i in range(len(self.dim) - 1)]\n",
    "                \n",
    "                batch_cnt = 0\n",
    "\n",
    "    def cost(self, images, labels):\n",
    "        num_of_image, _ = images.shape\n",
    "        loss = 0\n",
    "        \n",
    "        for i in range(num_of_image):\n",
    "            image = images[i]\n",
    "            label = labels[i]\n",
    "\n",
    "            yhat = self.identity[label].reshape(10, 1)\n",
    "\n",
    "            loss += ((self.forward_propagation(image) - yhat) ** 2).sum()\n",
    "    \n",
    "        print(f'cost: {loss}')\n",
    "    \n",
    "    def accuracy(self, images, labels):\n",
    "        num_of_image, _ = images.shape\n",
    "        correct = 0\n",
    "        \n",
    "        for i in range(num_of_image):\n",
    "            image = images[i]\n",
    "            label = labels[i]\n",
    "            \n",
    "            if self.forward_propagation(image).argmax() == label:\n",
    "                correct += 1\n",
    "        \n",
    "        print(f'accuracy: {correct / num_of_image * 100}%')\n",
    "\n",
    "\n",
    "nn = NeuralNetworks()\n",
    "\n",
    "epoch = 200\n",
    "for e in range(epoch):\n",
    "    nn.train()\n",
    "\n",
    "nn.accuracy(training_images[:600], training_labels[:600])\n",
    "nn.accuracy(testing_images[:500], testing_labels[:500])"
   ]
  },
  {
   "cell_type": "code",
   "execution_count": 21,
   "metadata": {},
   "outputs": [
    {
     "data": {
      "text/plain": [
       "[1, 3]"
      ]
     },
     "execution_count": 21,
     "metadata": {},
     "output_type": "execute_result"
    }
   ],
   "source": [
    "[1,3,4][:-1]"
   ]
  },
  {
   "cell_type": "markdown",
   "metadata": {},
   "source": [
    "驗證測試集"
   ]
  },
  {
   "cell_type": "code",
   "execution_count": 17,
   "metadata": {},
   "outputs": [
    {
     "name": "stdout",
     "output_type": "stream",
     "text": [
      "predict: 3\n"
     ]
    },
    {
     "data": {
      "text/plain": [
       "<matplotlib.image.AxesImage at 0x25d29e86848>"
      ]
     },
     "execution_count": 17,
     "metadata": {},
     "output_type": "execute_result"
    },
    {
     "data": {
      "image/png": "[encoded data removed]",
      "text/plain": [
       "<Figure size 432x288 with 1 Axes>"
      ]
     },
     "metadata": {
      "needs_background": "light"
     },
     "output_type": "display_data"
    }
   ],
   "source": [
    "i = np.random.randint(10000)\n",
    "image = testing_images[i]\n",
    "\n",
    "label = nn.forward_propagation(image).argmax()\n",
    "print(f'predict: {label}')\n",
    "\n",
    "image = image.reshape((28,28))\n",
    "plt.imshow(image, cmap='gray')"
   ]
  },
  {
   "cell_type": "markdown",
   "metadata": {},
   "source": [
    "# 參考資料\n",
    "\n",
    "[YouTube-Neural Networks Demystified](https://www.youtube.com/playlist?list=PLiaHhY2iBX9hdHaRr6b7XevZtgZRa1PoU)\n",
    "\n",
    "[YouTube-Neural networks](https://www.youtube.com/playlist?list=PLZHQObOWTQDNU6R1_67000Dx_ZCJB-3pi)\n",
    "\n",
    "[bilibili-大野喵渣](https://space.bilibili.com/28496477/video?tid=0&page=1&keyword=&order=pubdate)\n",
    "\n",
    "[GitHub-lihang-code](https://github.com/fengdu78/lihang-code)"
   ]
  },
  {
   "cell_type": "code",
   "execution_count": 20,
   "metadata": {},
   "outputs": [
    {
     "data": {
      "text/plain": [
       "array([1, 2])"
      ]
     },
     "execution_count": 20,
     "metadata": {},
     "output_type": "execute_result"
    }
   ],
   "source": [
    "a=np.array([[1,2],[3,4]])\n",
    "b=np.array([[1,3,4]])\n",
    "\n",
    "a[0]\n",
    "\n",
    "\n",
    "\n",
    "\n",
    "\n",
    "\n",
    "\n",
    "\n",
    "\n"
   ]
  }
 ],
 "metadata": {
  "kernelspec": {
   "display_name": "Python 3",
   "language": "python",
   "name": "python3"
  },
  "language_info": {
   "codemirror_mode": {
    "name": "ipython",
    "version": 3
   },
   "file_extension": ".py",
   "mimetype": "text/x-python",
   "name": "python",
   "nbconvert_exporter": "python",
   "pygments_lexer": "ipython3",
   "version": "3.7.4"
  }
 },
 "nbformat": 4,
 "nbformat_minor": 2
}
